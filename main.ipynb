{
 "cells": [
  {
   "cell_type": "code",
   "execution_count": 1,
   "id": "317eb873-b570-46f7-aa9d-d12ed69915b2",
   "metadata": {},
   "outputs": [],
   "source": [
    "# Chrome\n",
    "from selenium import webdriver\n",
    "from selenium.webdriver.common.keys import Keys\n",
    "from selenium.webdriver.common.by import By\n",
    "from selenium.common.exceptions import NoSuchElementException\n",
    "import time\n",
    "from selenium.webdriver.chrome.service import Service as ChromeService\n",
    "from webdriver_manager.chrome import ChromeDriverManager\n",
    "import os\n",
    "from dotenv import load_dotenv\n",
    "from datetime import datetime\n",
    "\n",
    "\n",
    "from bs4 import BeautifulSoup\n",
    "import pickle\n",
    "\n",
    "# Firefox\n",
    "# from selenium import webdriver\n",
    "# from selenium.webdriver.firefox.service import Service as FirefoxService\n",
    "# from webdriver_manager.firefox import GeckoDriverManager\n"
   ]
  },
  {
   "cell_type": "code",
   "execution_count": 2,
   "id": "72a8c135-5be5-45f6-ab72-9be0ded681a6",
   "metadata": {},
   "outputs": [
    {
     "name": "stderr",
     "output_type": "stream",
     "text": [
      "The chromedriver version (123.0.6312.122) detected in PATH at /usr/bin/chromedriver might not be compatible with the detected chrome version (124.0.6367.78); currently, chromedriver 124.0.6367.91 is recommended for chrome 124.*, so it is advised to delete the driver in PATH and retry\n"
     ]
    }
   ],
   "source": [
    "# driver = webdriver.Firefox(service=FirefoxService(GeckoDriverManager().install()))\n",
    "# driver = webdriver.Firefox()\n",
    "# \n",
    "# driver = webdriver.Chrome(service=ChromeService(ChromeDriverManager().install()))\n",
    "driver = webdriver.Chrome()"
   ]
  },
  {
   "cell_type": "code",
   "execution_count": 3,
   "id": "1ccd8a63-4e74-4212-ae89-ace424f57da0",
   "metadata": {},
   "outputs": [],
   "source": [
    "\n",
    "\n",
    "load_dotenv(\".env\")\n",
    "\n",
    "# owner credentials\n",
    "password = os.environ.get(\"PASSWORD\")\n",
    "owner_username = os.environ.get(\"OWNER_USERNAME\")\n",
    "username = os.environ.get(\"USERNAME\")\n",
    "# Navigate to a Twitter profile page\n",
    "# Login\n",
    "profile_name = \"elonmusk\"\n",
    "profile_url = f'https://twitter.com/{profile_name}'\n",
    "login_page = 'https://twitter.com/i/flow/login'\n",
    "login_page2 = 'https://twitter.com/i/flow/login?redirect_after_login=%2Fhome'\n",
    "home_page = \"https://twitter.com/home\""
   ]
  },
  {
   "cell_type": "code",
   "execution_count": 4,
   "id": "e0e87fb0-3039-4ad8-9de1-0cfdc081f91b",
   "metadata": {},
   "outputs": [],
   "source": [
    "driver.get(login_page)\n",
    "driver.implicitly_wait(15)"
   ]
  },
  {
   "cell_type": "code",
   "execution_count": 5,
   "id": "d03b0160-03d9-4093-adca-fb8d5fd28b9f",
   "metadata": {},
   "outputs": [],
   "source": [
    "# current_url = driver.current_url\n",
    "# if curent_url == login_page2:\n",
    "#     # try:\n",
    "#         # Send username\n",
    "#     driver.find_element(By.XPATH, '//div/div/div/div/div/div/div[2]/div[2]/div/div/div[2]/div[2]/div/div/div/div[5]/label/div/div[2]/div/input').send_keys(username)\n",
    "    \n",
    "# else:\n",
    "try:\n",
    "    # Send username\n",
    "    driver.find_element(By.XPATH, '//div/div/div/div/div/div/div[2]/div[2]/div/div/div[2]/div[2]/div/div/div/div[5]/label/div/div[2]/div/input').send_keys(username)\n",
    "    # Click on next\n",
    "    driver.find_element(By.XPATH, '//div/div/div/div/div/div/div[2]/div[2]/div/div/div[2]/div[2]/div/div/div/div[6]/div').click()\n",
    "    # # Send password\n",
    "    driver.find_element(By.XPATH, '//div/div/div/div/div/div/div[2]/div[2]/div/div/div[2]/div[2]/div[1]/div/div/div[3]/div/label/div/div[2]/div[1]/input').send_keys(password)\n",
    "    # # Click the Login button\n",
    "    driver.find_element(By.XPATH, '//div/div/div/div/div/div/div[2]/div[2]/div/div/div[2]/div[2]/div[2]/div/div[1]/div/div/div/div').click()\n",
    "    # Save cookies to a file\n",
    "    cookies = driver.get_cookies()\n",
    "    with open(\"cookies.pkl\", \"wb\") as f:\n",
    "        pickle.dump(cookies, f)\n",
    "\n",
    "except NoSuchElementException:\n",
    "    print(\"Password Element not found. Handling\")\n",
    "    driver.find_element(By.XPATH, '//div/div/div/div/div/div/div[2]/div[2]/div/div/div[2]/div[2]/div[1]/div/div[2]/label/div/div[2]/div/input').send_keys(owner_username)\n",
    "    driver.find_element(By.XPATH, '//div/div/div/div/div/div/div[2]/div[2]/div/div/div[2]/div[2]/div[2]/div/div/div/div/div').click()\n",
    "    driver.find_element(By.XPATH, '//div/div/div/div/div/div/div[2]/div[2]/div/div/div[2]/div[2]/div[1]/div/div/div[3]/div/label/div/div[2]/div[1]/input').send_keys(password)\n",
    "    driver.find_element(By.XPATH, '//div/div/div/div/div/div/div[2]/div[2]/div/div/div[2]/div[2]/div[2]/div/div[1]/div/div/div/div').click()\n",
    "    \n",
    "    \n",
    "    # Save cookies to a file\n",
    "    cookies = driver.get_cookies()\n",
    "    with open(\"cookies.pkl\", \"wb\") as f:\n",
    "        pickle.dump(cookies, f)\n",
    "        \n",
    "    try:\n",
    "        driver.find_element(By.XPATH, '//div[2]/div/div/div/div/div/div[2]/div[2]/div/div/div').click()\n",
    "        cookies = driver.get_cookies()\n",
    "        with open(\"cookies.pkl\", \"wb\") as f:\n",
    "            pickle.dump(cookies, f)\n",
    "    except NoSuchElementException:\n",
    "        cookies = driver.get_cookies()\n",
    "        with open(\"cookies.pkl\", \"wb\") as f:\n",
    "            pickle.dump(cookies, f)\n",
    "            print(\"Logged In\")"
   ]
  },
  {
   "cell_type": "code",
   "execution_count": null,
   "id": "1f03c52a-87e1-48fb-a87c-1e65529c591b",
   "metadata": {},
   "outputs": [],
   "source": [
    "\n"
   ]
  },
  {
   "cell_type": "code",
   "execution_count": null,
   "id": "0b499e4e-eb37-4046-a08c-ac3801e44f23",
   "metadata": {},
   "outputs": [],
   "source": []
  },
  {
   "cell_type": "code",
   "execution_count": null,
   "id": "989207a2-a530-45e0-99e1-bf52d8f16b85",
   "metadata": {},
   "outputs": [],
   "source": [
    "\n"
   ]
  },
  {
   "cell_type": "code",
   "execution_count": null,
   "id": "38ca2cb7-89b7-4b52-8479-c1e109614724",
   "metadata": {},
   "outputs": [],
   "source": [
    "\n"
   ]
  },
  {
   "cell_type": "code",
   "execution_count": 6,
   "id": "97ea215a-b66a-48e4-b69e-303200aa825c",
   "metadata": {},
   "outputs": [],
   "source": [
    "# driver.find_element(By.XPATH, '//div/div/div[2]/main/div/div/div[1]/div/div/div[3]/div[5]/a/div')"
   ]
  },
  {
   "cell_type": "code",
   "execution_count": 7,
   "id": "df85820b-1f36-4ff1-b7da-6fb999d2d096",
   "metadata": {},
   "outputs": [],
   "source": [
    "# login_html = driver.page_source"
   ]
  },
  {
   "cell_type": "code",
   "execution_count": 8,
   "id": "282ab8f9-79f6-48ad-a821-e51f9062e634",
   "metadata": {},
   "outputs": [],
   "source": [
    "# login_soup = BeautifulSoup(login_html, 'html.parser')"
   ]
  },
  {
   "cell_type": "code",
   "execution_count": 9,
   "id": "1020ea22-2fd7-4dbf-b415-85716658465c",
   "metadata": {},
   "outputs": [],
   "source": [
    "# xpath = '//div/div/div/div/div/div/div[2]/div[2]/div/div/div[2]/div[2]/div/div/div/div[5]/label/div/div[2]/div'"
   ]
  },
  {
   "cell_type": "code",
   "execution_count": null,
   "id": "06aaa9a6-e74e-44d5-b551-bca86f06a716",
   "metadata": {},
   "outputs": [],
   "source": []
  }
 ],
 "metadata": {
  "kernelspec": {
   "display_name": "Python 3 (ipykernel)",
   "language": "python",
   "name": "python3"
  },
  "language_info": {
   "codemirror_mode": {
    "name": "ipython",
    "version": 3
   },
   "file_extension": ".py",
   "mimetype": "text/x-python",
   "name": "python",
   "nbconvert_exporter": "python",
   "pygments_lexer": "ipython3",
   "version": "3.11.2"
  }
 },
 "nbformat": 4,
 "nbformat_minor": 5
}
